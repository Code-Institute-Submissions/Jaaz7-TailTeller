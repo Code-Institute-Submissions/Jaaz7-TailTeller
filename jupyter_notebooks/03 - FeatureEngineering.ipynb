{
  "cells": [
    {
      "cell_type": "markdown",
      "metadata": {
        "id": "0aStgWSO0E0E"
      },
      "source": [
        "# Feature Engineering Notebook"
      ]
    },
    {
      "cell_type": "markdown",
      "metadata": {
        "id": "1eLEkw5O0ECa"
      },
      "source": [
        "## Objectives\n",
        "\n",
        "* Pre-process the images in a one-hot encoding.\n",
        "* Use powerful pre-trained neural networks to extract complex features from the dataset of dog images for breed classification, specifically:\n",
        "    - InceptionV3\n",
        "    - Xception\n",
        "    - InceptionResNetV2\n",
        "    - NASNetLarge\n",
        "* Concatenate all of the 4 extracted features into a single feature map.\n",
        "\n",
        "## Inputs\n",
        "\n",
        "* labels.csv\n",
        "* images/train/\n",
        "* breed_dict.pkl\n",
        "* breeds.pkl\n",
        "\n",
        "## Outputs\n",
        "\n",
        "* final_features.pkl\n",
        "* y.pkl\n"
      ]
    },
    {
      "cell_type": "markdown",
      "metadata": {
        "id": "9uWZXH9LwoQg"
      },
      "source": [
        "---"
      ]
    },
    {
      "cell_type": "markdown",
      "metadata": {},
      "source": [
        "# Importing all the packages / libraries we need"
      ]
    },
    {
      "cell_type": "code",
      "execution_count": 1,
      "metadata": {},
      "outputs": [
        {
          "name": "stderr",
          "output_type": "stream",
          "text": [
            "/tmp/ipykernel_38972/2243817900.py:3: TqdmWarning: IProgress not found. Please update jupyter and ipywidgets. See https://ipywidgets.readthedocs.io/en/stable/user_install.html\n",
            "  from tqdm.autonotebook import tqdm\n",
            "2024-05-08 15:25:45.695909: I tensorflow/core/util/port.cc:113] oneDNN custom operations are on. You may see slightly different numerical results due to floating-point round-off errors from different computation orders. To turn them off, set the environment variable `TF_ENABLE_ONEDNN_OPTS=0`.\n",
            "2024-05-08 15:25:45.696091: I external/local_tsl/tsl/cuda/cudart_stub.cc:32] Could not find cuda drivers on your machine, GPU will not be used.\n",
            "2024-05-08 15:25:45.697947: I external/local_tsl/tsl/cuda/cudart_stub.cc:32] Could not find cuda drivers on your machine, GPU will not be used.\n",
            "2024-05-08 15:25:45.719661: I tensorflow/core/platform/cpu_feature_guard.cc:210] This TensorFlow binary is optimized to use available CPU instructions in performance-critical operations.\n",
            "To enable the following instructions: AVX2 AVX512F AVX512_VNNI AVX512_BF16 FMA, in other operations, rebuild TensorFlow with the appropriate compiler flags.\n",
            "2024-05-08 15:25:46.111093: W tensorflow/compiler/tf2tensorrt/utils/py_utils.cc:38] TF-TRT Warning: Could not find TensorRT\n"
          ]
        }
      ],
      "source": [
        "import os\n",
        "import matplotlib.pyplot as plt\n",
        "from tqdm.autonotebook import tqdm\n",
        "import numpy as np\n",
        "import pandas as pd\n",
        "from tensorflow.keras.preprocessing.image import load_img\n",
        "from keras.utils import to_categorical\n",
        "from keras.layers import GlobalAveragePooling2D\n",
        "from keras.models import Model\n",
        "from keras.layers import Lambda\n",
        "from keras.layers import Input\n",
        "from keras.applications.inception_v3 import InceptionV3, preprocess_input\n",
        "from keras.applications.xception import Xception, preprocess_input\n",
        "from keras.applications.inception_resnet_v2 import InceptionResNetV2, preprocess_input\n",
        "from keras.applications.nasnet import NASNetLarge, preprocess_input\n",
        "import pickle\n",
        "import time\n",
        "import gc"
      ]
    },
    {
      "cell_type": "markdown",
      "metadata": {},
      "source": [
        "# Change working directory"
      ]
    },
    {
      "cell_type": "markdown",
      "metadata": {},
      "source": [
        "We need to change the working directory from its current folder to its parent folder\n",
        "* We access the current directory with os.getcwd()"
      ]
    },
    {
      "cell_type": "code",
      "execution_count": 2,
      "metadata": {},
      "outputs": [
        {
          "data": {
            "text/plain": [
              "'/home/jaaz/Desktop/project-5/TailTeller/jupyter_notebooks'"
            ]
          },
          "execution_count": 2,
          "metadata": {},
          "output_type": "execute_result"
        }
      ],
      "source": [
        "current_dir = os.getcwd()\n",
        "current_dir"
      ]
    },
    {
      "cell_type": "markdown",
      "metadata": {},
      "source": [
        "We want to make the parent of the current directory the new current directory.\n",
        "* os.path.dirname() gets the parent directory\n",
        "* os.chdir() defines the new current directory"
      ]
    },
    {
      "cell_type": "code",
      "execution_count": 3,
      "metadata": {},
      "outputs": [
        {
          "name": "stdout",
          "output_type": "stream",
          "text": [
            "New current directory: /home/jaaz/Desktop/project-5/TailTeller\n"
          ]
        }
      ],
      "source": [
        "os.chdir(os.path.dirname(current_dir))\n",
        "print(\"New current directory:\", os.getcwd())"
      ]
    },
    {
      "cell_type": "markdown",
      "metadata": {},
      "source": [
        "---"
      ]
    },
    {
      "cell_type": "markdown",
      "metadata": {},
      "source": [
        "# Pre-process and Encode"
      ]
    },
    {
      "cell_type": "markdown",
      "metadata": {},
      "source": [
        "We will create a function to pre-process (transform the data before feeding it to the algorithm) the images and labels to encode them into a numpy array in a one-hot encoded format."
      ]
    },
    {
      "cell_type": "code",
      "execution_count": null,
      "metadata": {},
      "outputs": [],
      "source": [
        "# Load the breed dictionary\n",
        "with open('breed_dict.pkl', 'rb') as f:\n",
        "    breed_dict = pickle.load(f)\n",
        "\n",
        "input_shape = (299,299,3)\n",
        "\n",
        "def images_to_array(directory, label_dataframe, target_size = input_shape):\n",
        "    image_labels = label_dataframe['breed']\n",
        "    # Using uint8 will save RAM memory when tackling large amounts of data\n",
        "    images = np.zeros([len(label_dataframe), target_size[0], target_size[1], target_size[2]], dtype=np.uint8)\n",
        "    y = np.zeros([len(label_dataframe), 1], dtype=np.uint8)\n",
        "\n",
        "    \"\"\"\n",
        "    Taking each index and image name, constructing\n",
        "    A full path of each image, loading them and resizing,\n",
        "    Storing images into the array, deleting images to save RAM\n",
        "    \"\"\"\n",
        "    for ix, image_name in enumerate(tqdm(label_dataframe['id'].values)):\n",
        "        img_dir = os.path.join(directory, image_name + '.jpg')\n",
        "        img = load_img(img_dir, target_size = target_size)\n",
        "        images[ix] = img\n",
        "        del img\n",
        "\n",
        "        # Getting the breed label for the current image\n",
        "        # And convert the breed name into a numerical\n",
        "        # Index and assign it to a label array \"y\"\n",
        "        dog_breed = image_labels[ix]\n",
        "        y[ix] = breed_dict[dog_breed]\n",
        "    \n",
        "    # Convert the vector class into a binary matrix (one-hot encoding)\n",
        "    y = to_categorical(y)\n",
        "\n",
        "    return images,y"
      ]
    }
  ],
  "metadata": {
    "accelerator": "GPU",
    "colab": {
      "name": "Data Practitioner Jupyter Notebook.ipynb",
      "provenance": [],
      "toc_visible": true
    },
    "interpreter": {
      "hash": "8b8334dab9339717f727a1deaf837b322d7a41c20d15cc86be99a8e69ceec8ce"
    },
    "kernelspec": {
      "display_name": "Python 3.8.12 64-bit ('3.8.12': pyenv)",
      "name": "python3"
    },
    "language_info": {
      "codemirror_mode": {
        "name": "ipython",
        "version": 3
      },
      "file_extension": ".py",
      "mimetype": "text/x-python",
      "name": "python",
      "nbconvert_exporter": "python",
      "pygments_lexer": "ipython3",
      "version": "3.10.13"
    },
    "orig_nbformat": 2
  },
  "nbformat": 4,
  "nbformat_minor": 2
}
