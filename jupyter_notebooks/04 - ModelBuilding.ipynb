{
  "cells": [
    {
      "cell_type": "markdown",
      "metadata": {
        "id": "0aStgWSO0E0E"
      },
      "source": [
        "# Model Building and Training Notebook"
      ]
    },
    {
      "cell_type": "markdown",
      "metadata": {
        "id": "1eLEkw5O0ECa"
      },
      "source": [
        "## Objectives\n",
        "\n",
        "* Answer Business requirement 2:\n",
        "The client requires a machine learning model developed to accurately identify dog breeds from images.\n",
        "* Implement callbacks for learning rate reduction and early stopping to enhance training efficiency.\n",
        "* Use the Adam optimizer for training the model.\n",
        "* Build a neural network model using dropout for regularization and a dense output layer for multi-class classification.\n",
        "\n",
        "\n",
        "## Inputs\n",
        "\n",
        "* n_breeds.pkl\n",
        "* final_features.pkl\n",
        "* y.pkl\n",
        "\n",
        "## Outputs\n",
        "\n",
        "* tailteller_model.keras\n",
        "* Accuracy and Validation plot\n"
      ]
    },
    {
      "cell_type": "markdown",
      "metadata": {
        "id": "9uWZXH9LwoQg"
      },
      "source": [
        "---"
      ]
    },
    {
      "cell_type": "code",
      "execution_count": 2,
      "metadata": {},
      "outputs": [
        {
          "name": "stderr",
          "output_type": "stream",
          "text": [
            "2024-05-08 18:36:42.960315: I tensorflow/core/util/port.cc:113] oneDNN custom operations are on. You may see slightly different numerical results due to floating-point round-off errors from different computation orders. To turn them off, set the environment variable `TF_ENABLE_ONEDNN_OPTS=0`.\n",
            "2024-05-08 18:36:42.960493: I external/local_tsl/tsl/cuda/cudart_stub.cc:32] Could not find cuda drivers on your machine, GPU will not be used.\n",
            "2024-05-08 18:36:42.962258: I external/local_tsl/tsl/cuda/cudart_stub.cc:32] Could not find cuda drivers on your machine, GPU will not be used.\n",
            "2024-05-08 18:36:42.984552: I tensorflow/core/platform/cpu_feature_guard.cc:210] This TensorFlow binary is optimized to use available CPU instructions in performance-critical operations.\n",
            "To enable the following instructions: AVX2 AVX512F AVX512_VNNI AVX512_BF16 FMA, in other operations, rebuild TensorFlow with the appropriate compiler flags.\n",
            "2024-05-08 18:36:43.377979: W tensorflow/compiler/tf2tensorrt/utils/py_utils.cc:38] TF-TRT Warning: Could not find TensorRT\n"
          ]
        }
      ],
      "source": [
        "import os\n",
        "import pickle\n",
        "from keras.callbacks import ReduceLROnPlateau\n",
        "from keras.callbacks import EarlyStopping\n",
        "from keras.optimizers import Adam\n",
        "from keras.models import Sequential\n",
        "from keras.layers import Dropout\n",
        "from keras.layers import Dense\n",
        "from tensorflow.keras.models import save_model"
      ]
    },
    {
      "cell_type": "markdown",
      "metadata": {},
      "source": [
        "# Change working directory"
      ]
    },
    {
      "cell_type": "markdown",
      "metadata": {},
      "source": [
        "We need to change the working directory from its current folder to its parent folder\n",
        "* We access the current directory with os.getcwd()"
      ]
    },
    {
      "cell_type": "code",
      "execution_count": 3,
      "metadata": {},
      "outputs": [
        {
          "data": {
            "text/plain": [
              "'/home/jaaz/Desktop/project-5/TailTeller/jupyter_notebooks'"
            ]
          },
          "execution_count": 3,
          "metadata": {},
          "output_type": "execute_result"
        }
      ],
      "source": [
        "current_dir = os.getcwd()\n",
        "current_dir"
      ]
    },
    {
      "cell_type": "markdown",
      "metadata": {},
      "source": [
        "We want to make the parent of the current directory the new current directory.\n",
        "* os.path.dirname() gets the parent directory\n",
        "* os.chdir() defines the new current directory"
      ]
    },
    {
      "cell_type": "code",
      "execution_count": 4,
      "metadata": {},
      "outputs": [
        {
          "name": "stdout",
          "output_type": "stream",
          "text": [
            "New current directory: /home/jaaz/Desktop/project-5/TailTeller\n"
          ]
        }
      ],
      "source": [
        "os.chdir(os.path.dirname(current_dir))\n",
        "print(\"New current directory:\", os.getcwd())"
      ]
    },
    {
      "cell_type": "markdown",
      "metadata": {},
      "source": [
        "---"
      ]
    },
    {
      "cell_type": "markdown",
      "metadata": {},
      "source": [
        "# Creating callbacks"
      ]
    },
    {
      "cell_type": "markdown",
      "metadata": {},
      "source": [
        "Callbacks are helper functions that a machine learning model can use during training to save model progress or stop training if nothing significant is happening."
      ]
    },
    {
      "cell_type": "code",
      "execution_count": 5,
      "metadata": {},
      "outputs": [],
      "source": [
        "# Set up Learning Rate Annealer\n",
        "learning_rate_reduction = ReduceLROnPlateau(\n",
        "    monitor='val_acc', \n",
        "    factor=0.01, \n",
        "    patience=3, \n",
        "    min_lr=1e-5,\n",
        "    verbose=1\n",
        ")\n",
        "\n",
        "# Prepare Callbacks for Early Stopping\n",
        "early_stopping = EarlyStopping(\n",
        "    monitor='val_loss', \n",
        "    patience=10, \n",
        "    restore_best_weights=True\n",
        ")"
      ]
    },
    {
      "cell_type": "markdown",
      "metadata": {},
      "source": [
        "### Stablish hyperparameters.\n",
        "\n",
        "### Initialize an optimization algorithm used in training neural networks called Adam."
      ]
    },
    {
      "cell_type": "code",
      "execution_count": 6,
      "metadata": {},
      "outputs": [],
      "source": [
        "# Hyperparameters\n",
        "batch_size = 128\n",
        "epochs = 50\n",
        "learning_rate = 0.001\n",
        "\n",
        "# Initialize Adaptive Moment Estimation (Adam) optimizer\n",
        "adam_optimizer = Adam(\n",
        "    learning_rate=learning_rate, \n",
        "    beta_1=0.9, \n",
        "    beta_2=0.999, \n",
        "    epsilon=None, \n",
        "    amsgrad=False\n",
        ")"
      ]
    },
    {
      "cell_type": "markdown",
      "metadata": {},
      "source": [
        "# Model Building and Training"
      ]
    },
    {
      "cell_type": "markdown",
      "metadata": {},
      "source": [
        "We have now the following:\n",
        "- Callbacks\n",
        "    * learning_rate_reduction\n",
        "    * early_stopping\n",
        "- Hyperparameteers:\n",
        "    * batch_size\n",
        "    * epochs\n",
        "    * learning_rate\n",
        "- Algorithm Optimizer:\n",
        "    * adam_optimizer\n",
        "\n",
        "We are now ready to build and train the model."
      ]
    },
    {
      "cell_type": "markdown",
      "metadata": {},
      "source": [
        "One important thing to notice: the 0.7 number is important in the following code.\n",
        "It's a parameter of \"Dropout\" layer in a neural network model. It specifies the dropout rate at which nodes (neurons) are randomly dropped during training.\n",
        "\n",
        "* 0.7 -> There is a 70% chance that the output of each neuron in the previous layer is set to zero during training.\n",
        "Meaning that only 30% of nodes contribute to the activation and backpropagation processes at each step.\n",
        "\n",
        "* Overfitting reduction: By dropping 70% of the neurons randomly, the network becomes less sensitive to the specific weights of neurons, this will reduce the risk of overfitting in the training data.\n",
        "\n",
        "* Model robustness: With such a high dropout rate, the remaining neurons take on the \"burden\" of adjusting to represent the missing neurons, potentially leading to a more robust representation of the data."
      ]
    },
    {
      "cell_type": "code",
      "execution_count": 7,
      "metadata": {},
      "outputs": [
        {
          "name": "stdout",
          "output_type": "stream",
          "text": [
            "Epoch 1/50\n"
          ]
        },
        {
          "name": "stderr",
          "output_type": "stream",
          "text": [
            "/home/jaaz/.conda/envs/py10/lib/python3.10/site-packages/keras/src/layers/regularization/dropout.py:42: UserWarning: Do not pass an `input_shape`/`input_dim` argument to a layer. When using Sequential models, prefer using an `Input(shape)` object as the first layer in the model instead.\n",
            "  super().__init__(**kwargs)\n"
          ]
        },
        {
          "name": "stdout",
          "output_type": "stream",
          "text": [
            "\u001b[1m32/32\u001b[0m \u001b[32m━━━━━━━━━━━━━━━━━━━━\u001b[0m\u001b[37m\u001b[0m \u001b[1m0s\u001b[0m 6ms/step - accuracy: 0.4275 - loss: 3.0353 - val_accuracy: 0.9189 - val_loss: 0.2649 - learning_rate: 0.0010\n",
            "Epoch 2/50\n",
            "\u001b[1m32/32\u001b[0m \u001b[32m━━━━━━━━━━━━━━━━━━━━\u001b[0m\u001b[37m\u001b[0m \u001b[1m0s\u001b[0m 4ms/step - accuracy: 0.9373 - loss: 0.2088 - val_accuracy: 0.9238 - val_loss: 0.2354 - learning_rate: 0.0010\n",
            "Epoch 3/50\n",
            "\u001b[1m 1/32\u001b[0m \u001b[37m━━━━━━━━━━━━━━━━━━━━\u001b[0m \u001b[1m0s\u001b[0m 15ms/step - accuracy: 0.9297 - loss: 0.2380"
          ]
        },
        {
          "name": "stderr",
          "output_type": "stream",
          "text": [
            "/home/jaaz/.conda/envs/py10/lib/python3.10/site-packages/keras/src/callbacks/callback_list.py:96: UserWarning: Learning rate reduction is conditioned on metric `val_acc` which is not available. Available metrics are: accuracy,loss,val_accuracy,val_loss,learning_rate.\n",
            "  callback.on_epoch_end(epoch, logs)\n"
          ]
        },
        {
          "name": "stdout",
          "output_type": "stream",
          "text": [
            "\u001b[1m32/32\u001b[0m \u001b[32m━━━━━━━━━━━━━━━━━━━━\u001b[0m\u001b[37m\u001b[0m \u001b[1m0s\u001b[0m 4ms/step - accuracy: 0.9555 - loss: 0.1524 - val_accuracy: 0.9257 - val_loss: 0.2316 - learning_rate: 0.0010\n",
            "Epoch 4/50\n",
            "\u001b[1m32/32\u001b[0m \u001b[32m━━━━━━━━━━━━━━━━━━━━\u001b[0m\u001b[37m\u001b[0m \u001b[1m0s\u001b[0m 4ms/step - accuracy: 0.9652 - loss: 0.1168 - val_accuracy: 0.9296 - val_loss: 0.2308 - learning_rate: 0.0010\n",
            "Epoch 5/50\n",
            "\u001b[1m32/32\u001b[0m \u001b[32m━━━━━━━━━━━━━━━━━━━━\u001b[0m\u001b[37m\u001b[0m \u001b[1m0s\u001b[0m 4ms/step - accuracy: 0.9721 - loss: 0.0900 - val_accuracy: 0.9189 - val_loss: 0.2323 - learning_rate: 0.0010\n",
            "Epoch 6/50\n",
            "\u001b[1m32/32\u001b[0m \u001b[32m━━━━━━━━━━━━━━━━━━━━\u001b[0m\u001b[37m\u001b[0m \u001b[1m0s\u001b[0m 4ms/step - accuracy: 0.9782 - loss: 0.0774 - val_accuracy: 0.9247 - val_loss: 0.2342 - learning_rate: 0.0010\n",
            "Epoch 7/50\n",
            "\u001b[1m32/32\u001b[0m \u001b[32m━━━━━━━━━━━━━━━━━━━━\u001b[0m\u001b[37m\u001b[0m \u001b[1m0s\u001b[0m 4ms/step - accuracy: 0.9767 - loss: 0.0693 - val_accuracy: 0.9257 - val_loss: 0.2455 - learning_rate: 0.0010\n",
            "Epoch 8/50\n",
            "\u001b[1m32/32\u001b[0m \u001b[32m━━━━━━━━━━━━━━━━━━━━\u001b[0m\u001b[37m\u001b[0m \u001b[1m0s\u001b[0m 4ms/step - accuracy: 0.9825 - loss: 0.0564 - val_accuracy: 0.9267 - val_loss: 0.2347 - learning_rate: 0.0010\n",
            "Epoch 9/50\n",
            "\u001b[1m32/32\u001b[0m \u001b[32m━━━━━━━━━━━━━━━━━━━━\u001b[0m\u001b[37m\u001b[0m \u001b[1m0s\u001b[0m 4ms/step - accuracy: 0.9893 - loss: 0.0440 - val_accuracy: 0.9208 - val_loss: 0.2426 - learning_rate: 0.0010\n",
            "Epoch 10/50\n",
            "\u001b[1m32/32\u001b[0m \u001b[32m━━━━━━━━━━━━━━━━━━━━\u001b[0m\u001b[37m\u001b[0m \u001b[1m0s\u001b[0m 4ms/step - accuracy: 0.9888 - loss: 0.0407 - val_accuracy: 0.9277 - val_loss: 0.2384 - learning_rate: 0.0010\n",
            "Epoch 11/50\n",
            "\u001b[1m32/32\u001b[0m \u001b[32m━━━━━━━━━━━━━━━━━━━━\u001b[0m\u001b[37m\u001b[0m \u001b[1m0s\u001b[0m 4ms/step - accuracy: 0.9922 - loss: 0.0328 - val_accuracy: 0.9189 - val_loss: 0.2435 - learning_rate: 0.0010\n",
            "Epoch 12/50\n",
            "\u001b[1m32/32\u001b[0m \u001b[32m━━━━━━━━━━━━━━━━━━━━\u001b[0m\u001b[37m\u001b[0m \u001b[1m0s\u001b[0m 4ms/step - accuracy: 0.9929 - loss: 0.0304 - val_accuracy: 0.9296 - val_loss: 0.2448 - learning_rate: 0.0010\n",
            "Epoch 13/50\n",
            "\u001b[1m32/32\u001b[0m \u001b[32m━━━━━━━━━━━━━━━━━━━━\u001b[0m\u001b[37m\u001b[0m \u001b[1m0s\u001b[0m 4ms/step - accuracy: 0.9913 - loss: 0.0304 - val_accuracy: 0.9257 - val_loss: 0.2425 - learning_rate: 0.0010\n",
            "Epoch 14/50\n",
            "\u001b[1m32/32\u001b[0m \u001b[32m━━━━━━━━━━━━━━━━━━━━\u001b[0m\u001b[37m\u001b[0m \u001b[1m0s\u001b[0m 4ms/step - accuracy: 0.9967 - loss: 0.0227 - val_accuracy: 0.9257 - val_loss: 0.2423 - learning_rate: 0.0010\n"
          ]
        }
      ],
      "source": [
        "with open('final_features.pkl', 'rb') as f:\n",
        "    final_features = pickle.load(f)\n",
        "\n",
        "with open('n_breeds.pkl', 'rb') as f:\n",
        "    n_breeds = pickle.load(f)\n",
        "\n",
        "with open('y.pkl', 'rb') as f:\n",
        "    y = pickle.load(f)\n",
        "\n",
        "# Initialize a Sequential Deep Learning model\n",
        "model = Sequential()\n",
        "\n",
        "# Add a Dropout layer to prevent overfitting with 70% dropout rate\n",
        "model.add(Dropout(0.7, input_shape=(final_features.shape[1],)))\n",
        "\n",
        "# Add a Dense output layer with softmax activation for multi-class classification\n",
        "model.add(Dense(n_breeds, activation='softmax'))\n",
        "\n",
        "# Compile the model with Adam optimizer and categorical crossentropy loss\n",
        "adam_optimizer = Adam()\n",
        "\n",
        "model.compile(\n",
        "    optimizer=adam_optimizer,\n",
        "    loss='categorical_crossentropy',\n",
        "    metrics=['accuracy']\n",
        ")\n",
        "\n",
        "# Train the model with the feature data\n",
        "\n",
        "history = model.fit(\n",
        "    final_features, y,\n",
        "    batch_size=batch_size,\n",
        "    epochs=epochs,\n",
        "    validation_split=0.2,\n",
        "    callbacks=[learning_rate_reduction, early_stopping]\n",
        ")\n"
      ]
    },
    {
      "cell_type": "code",
      "execution_count": 7,
      "metadata": {},
      "outputs": [],
      "source": [
        "# Save the trained model\n",
        "save_model(model, 'src/machine_learning/tailteller_model.keras')"
      ]
    },
    {
      "cell_type": "markdown",
      "metadata": {},
      "source": [
        "# Conclusions and Next steps"
      ]
    },
    {
      "cell_type": "markdown",
      "metadata": {},
      "source": [
        "The model building and training was successfully performed.\n",
        "\n",
        "The model underwent significant training phases, demonstrating high accuracy, which suggests effective learning and generalization capabilities.\n",
        "\n",
        "## Next steps:\n",
        "\n",
        "- Model Testing\n",
        "\n",
        "    * Validation Testing: Perform additional testing using the test/ folder with dog images for cross-validation.\n",
        "    * Performance Metrics: Assess detailed performance metrics such as precision recall, F1-score and confusion matrix to identify any bias."
      ]
    },
    {
      "cell_type": "markdown",
      "metadata": {},
      "source": [
        "---"
      ]
    },
    {
      "cell_type": "code",
      "execution_count": 12,
      "metadata": {},
      "outputs": [
        {
          "data": {
            "image/png": "[encoded data removed]",
            "text/plain": [
              "<Figure size 640x480 with 1 Axes>"
            ]
          },
          "metadata": {},
          "output_type": "display_data"
        },
        {
          "name": "stdout",
          "output_type": "stream",
          "text": [
            "Final training accuracy: 1.00\n",
            "Final validation accuracy: 0.93\n"
          ]
        }
      ],
      "source": [
        "import matplotlib.pyplot as plt\n",
        "import seaborn as sns\n",
        "\n",
        "# Set the style of seaborn\n",
        "sns.set(style='whitegrid')\n",
        "\n",
        "# Get training and validation accuracy histories\n",
        "training_accuracy = history.history['accuracy']\n",
        "validation_accuracy = history.history['val_accuracy']\n",
        "\n",
        "# Create count of the number of epochs\n",
        "epoch_count = range(1, len(training_accuracy) + 1)\n",
        "\n",
        "# Create a figure and axis\n",
        "fig, ax = plt.subplots()\n",
        "\n",
        "# Plot training accuracy\n",
        "sns.lineplot(x=epoch_count, y=training_accuracy, ax=ax, label='Training Accuracy')\n",
        "\n",
        "# Plot validation accuracy\n",
        "sns.lineplot(x=epoch_count, y=validation_accuracy, ax=ax, label='Validation Accuracy')\n",
        "\n",
        "# Set labels and title\n",
        "ax.set_xlabel('Epoch')\n",
        "ax.set_ylabel('Accuracy Score')\n",
        "ax.set_title('Model Accuracy over Epochs')\n",
        "\n",
        "# Show the plot\n",
        "plt.show()\n",
        "\n",
        "# Print the final training accuracy\n",
        "print(f'Final training accuracy: {format(training_accuracy[-1], \".2f\")}')\n",
        "\n",
        "# Print the final validation accuracy\n",
        "print(f'Final validation accuracy: {format(validation_accuracy[-1], \".2f\")}')"
      ]
    }
  ],
  "metadata": {
    "accelerator": "GPU",
    "colab": {
      "name": "Data Practitioner Jupyter Notebook.ipynb",
      "provenance": [],
      "toc_visible": true
    },
    "interpreter": {
      "hash": "8b8334dab9339717f727a1deaf837b322d7a41c20d15cc86be99a8e69ceec8ce"
    },
    "kernelspec": {
      "display_name": "Python 3.8.12 64-bit ('3.8.12': pyenv)",
      "name": "python3"
    },
    "language_info": {
      "codemirror_mode": {
        "name": "ipython",
        "version": 3
      },
      "file_extension": ".py",
      "mimetype": "text/x-python",
      "name": "python",
      "nbconvert_exporter": "python",
      "pygments_lexer": "ipython3",
      "version": "3.10.13"
    },
    "orig_nbformat": 2
  },
  "nbformat": 4,
  "nbformat_minor": 2
}
